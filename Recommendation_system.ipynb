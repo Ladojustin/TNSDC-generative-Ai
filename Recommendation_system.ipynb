{
  "nbformat": 4,
  "nbformat_minor": 0,
  "metadata": {
    "colab": {
      "provenance": []
    },
    "kernelspec": {
      "name": "python3",
      "display_name": "Python 3"
    },
    "language_info": {
      "name": "python"
    }
  },
  "cells": [
    {
      "cell_type": "code",
      "execution_count": 1,
      "metadata": {
        "colab": {
          "base_uri": "https://localhost:8080/"
        },
        "id": "C3RqyVIFLn6Z",
        "outputId": "d712fbc0-4b27-4dab-a7de-1c9a6af2b0e0"
      },
      "outputs": [
        {
          "output_type": "stream",
          "name": "stdout",
          "text": [
            "Epoch 1/10\n",
            "157/157 [==============================] - 2s 8ms/step - loss: 10.7635 - val_loss: 11.2386\n",
            "Epoch 2/10\n",
            "157/157 [==============================] - 1s 7ms/step - loss: 10.6857 - val_loss: 11.2153\n",
            "Epoch 3/10\n",
            "157/157 [==============================] - 1s 9ms/step - loss: 10.4866 - val_loss: 11.0614\n",
            "Epoch 4/10\n",
            "157/157 [==============================] - 2s 16ms/step - loss: 9.9221 - val_loss: 10.4767\n",
            "Epoch 5/10\n",
            "157/157 [==============================] - 2s 12ms/step - loss: 8.6827 - val_loss: 9.1605\n",
            "Epoch 6/10\n",
            "157/157 [==============================] - 2s 11ms/step - loss: 6.7668 - val_loss: 7.2603\n",
            "Epoch 7/10\n",
            "157/157 [==============================] - 2s 11ms/step - loss: 4.6947 - val_loss: 5.3701\n",
            "Epoch 8/10\n",
            "157/157 [==============================] - 1s 8ms/step - loss: 3.0946 - val_loss: 4.0197\n",
            "Epoch 9/10\n",
            "157/157 [==============================] - 1s 4ms/step - loss: 2.1608 - val_loss: 3.2635\n",
            "Epoch 10/10\n",
            "157/157 [==============================] - 1s 4ms/step - loss: 1.6935 - val_loss: 2.8995\n",
            "313/313 [==============================] - 0s 1ms/step - loss: 2.7931\n",
            "Test Loss: 2.793081521987915\n"
          ]
        }
      ],
      "source": [
        "import tensorflow as tf\n",
        "import numpy as np\n",
        "# Generate random data for demonstration\n",
        "num_users = 1000\n",
        "num_items = 500\n",
        "num_samples = 10000\n",
        "user_ids_train = np.random.randint(0, num_users, num_samples)\n",
        "item_ids_train = np.random.randint(0, num_items, num_samples)\n",
        "ratings_train = np.random.randint(1, 6, num_samples) # Assume ratings are integers between\n",
        "1 and 5\n",
        "user_ids_val = np.random.randint(0, num_users, num_samples)\n",
        "item_ids_val = np.random.randint(0, num_items, num_samples)\n",
        "ratings_val = np.random.randint(1, 6, num_samples)\n",
        "user_ids_test = np.random.randint(0, num_users, num_samples)\n",
        "item_ids_test = np.random.randint(0, num_items, num_samples)\n",
        "ratings_test = np.random.randint(1, 6, num_samples)\n",
        "# Define the model architecture\n",
        "class CollaborativeFilteringModel(tf.keras.Model):\n",
        " def __init__(self, num_users, num_items, embedding_size):\n",
        "   super(CollaborativeFilteringModel, self).__init__()\n",
        "   self.user_embedding = tf.keras.layers.Embedding(num_users, embedding_size)\n",
        "   self.item_embedding = tf.keras.layers.Embedding(num_items, embedding_size)\n",
        "   self.dot = tf.keras.layers.Dot(axes=1)\n",
        " def call(self, inputs):\n",
        "   user_id, item_id = inputs\n",
        "   user_embedding = self.user_embedding(user_id)\n",
        "   item_embedding = self.item_embedding(item_id)\n",
        "   return self.dot([user_embedding, item_embedding])\n",
        "# Example usage\n",
        "embedding_size = 50\n",
        "model = CollaborativeFilteringModel(num_users, num_items, embedding_size)\n",
        "model.compile(optimizer='adam', loss='mean_squared_error')\n",
        "# Train the model\n",
        "history = model.fit([user_ids_train, item_ids_train], ratings_train,\n",
        " validation_data=([user_ids_val, item_ids_val], ratings_val),\n",
        " epochs=10, batch_size=64)\n",
        "# Evaluate the model\n",
        "loss = model.evaluate([user_ids_test, item_ids_test], ratings_test)\n",
        "print(\"Test Loss:\", loss)\n"
      ]
    }
  ]
}